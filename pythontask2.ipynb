{
  "nbformat": 4,
  "nbformat_minor": 0,
  "metadata": {
    "colab": {
      "provenance": []
    },
    "kernelspec": {
      "name": "python3",
      "display_name": "Python 3"
    },
    "language_info": {
      "name": "python"
    }
  },
  "cells": [
    {
      "cell_type": "markdown",
      "source": [
        "Q1: Password Validation Function\n",
        "**Answer:**\n",
        "The function will:\n",
        "\n",
        "1. Check for at least two uppercase and two lowercase letters.\n",
        "2. Check for at least one numeric character.\n",
        "3. Check for at least three special characters.\n",
        "4. Ensure the password is at least 10 characters long."
      ],
      "metadata": {
        "id": "c2UmjVjj2a3A"
      }
    },
    {
      "cell_type": "code",
      "execution_count": 12,
      "metadata": {
        "colab": {
          "base_uri": "https://localhost:8080/"
        },
        "id": "kS_LuZCQ2TS6",
        "outputId": "6a47e4d5-2f29-4a3c-edee-c5fc0fe803c6"
      },
      "outputs": [
        {
          "output_type": "stream",
          "name": "stdout",
          "text": [
            "Password Validation Result: Valid Password\n"
          ]
        }
      ],
      "source": [
        "import re\n",
        "\n",
        "def validate_password(password):\n",
        "    # Check length\n",
        "    if len(password) < 10:\n",
        "        return \"Invalid Password\"\n",
        "\n",
        "    # Check for at least two uppercase letters\n",
        "    if len(re.findall(r'[A-Z]', password)) < 2:\n",
        "        return \"Invalid Password\"\n",
        "\n",
        "    # Check for at least two lowercase letters\n",
        "    if len(re.findall(r'[a-z]', password)) < 2:\n",
        "        return \"Invalid Password\"\n",
        "\n",
        "    # Check for at least one number\n",
        "    if len(re.findall(r'[0-9]', password)) < 1:\n",
        "        return \"Invalid Password\"\n",
        "\n",
        "    # Check for at least three special characters\n",
        "    if len(re.findall(r'[!@#$%^&*(),.?\":{}|<>]', password)) < 3:\n",
        "        return \"Invalid Password\"\n",
        "\n",
        "    return \"Valid Password\"\n",
        "\n",
        "# Test case\n",
        "password = \"Abc@#$123XY\"\n",
        "result = validate_password(password)\n",
        "print(\"Password Validation Result:\", result)\n"
      ]
    },
    {
      "cell_type": "markdown",
      "source": [
        "Q2: Solve Questions Using Functional Programming\n",
        "\n",
        "a. Check if the string starts with a particular letter\n",
        "\n",
        "**Answer:**"
      ],
      "metadata": {
        "id": "Aq1wzlc12y_1"
      }
    },
    {
      "cell_type": "code",
      "source": [
        "starts_with = lambda x, letter: x.startswith(letter)\n",
        "\n",
        "# Test case\n",
        "print(starts_with(\"banana\", \"b\"))  # Output: True\n"
      ],
      "metadata": {
        "colab": {
          "base_uri": "https://localhost:8080/"
        },
        "id": "P2XyobBE3NQy",
        "outputId": "f251830b-c311-4264-e114-4e0d6bd078e6"
      },
      "execution_count": 3,
      "outputs": [
        {
          "output_type": "stream",
          "name": "stdout",
          "text": [
            "True\n"
          ]
        }
      ]
    },
    {
      "cell_type": "markdown",
      "source": [
        "b. Check if the string is numeric\n",
        "\n",
        "**Answer**"
      ],
      "metadata": {
        "id": "oPGRZxcJ3RRu"
      }
    },
    {
      "cell_type": "code",
      "source": [
        "is_numeric = lambda x: x.isnumeric()\n",
        "\n",
        "# Test case\n",
        "print(is_numeric(\"12345\"))  # Output: True\n",
        "print(is_numeric(\"abc123\"))  # Output: False\n"
      ],
      "metadata": {
        "colab": {
          "base_uri": "https://localhost:8080/"
        },
        "id": "NW-xxRxv3VYT",
        "outputId": "a40e0c2a-3906-4821-afb4-94a71da6d037"
      },
      "execution_count": 4,
      "outputs": [
        {
          "output_type": "stream",
          "name": "stdout",
          "text": [
            "True\n",
            "False\n"
          ]
        }
      ]
    },
    {
      "cell_type": "markdown",
      "source": [
        "c. Sort a list of tuples by the second element\n",
        "\n",
        "**Answer:**"
      ],
      "metadata": {
        "id": "RjIdBUsQ3Yvi"
      }
    },
    {
      "cell_type": "code",
      "source": [
        "fruits = [(\"mango\", 99), (\"orange\", 80), (\"grapes\", 1000)]\n",
        "sorted_fruits = sorted(fruits, key=lambda x: x[1])\n",
        "\n",
        "print(sorted_fruits)  # Output: [('orange', 80), ('mango', 99), ('grapes', 1000)]\n"
      ],
      "metadata": {
        "colab": {
          "base_uri": "https://localhost:8080/"
        },
        "id": "KQBgbfnD3d_j",
        "outputId": "0eaff172-2a89-402b-8db4-d59a4094c0d7"
      },
      "execution_count": 5,
      "outputs": [
        {
          "output_type": "stream",
          "name": "stdout",
          "text": [
            "[('orange', 80), ('mango', 99), ('grapes', 1000)]\n"
          ]
        }
      ]
    },
    {
      "cell_type": "markdown",
      "source": [
        "d. Find the squares of numbers from 1 to 10\n",
        "\n",
        "**Answer:**"
      ],
      "metadata": {
        "id": "AM-baB5Y3fX7"
      }
    },
    {
      "cell_type": "code",
      "source": [
        "squares = list(map(lambda x: x**2, range(1, 11)))\n",
        "\n",
        "print(squares)  # Output: [1, 4, 9, 16, 25, 36, 49, 64, 81, 100]\n"
      ],
      "metadata": {
        "colab": {
          "base_uri": "https://localhost:8080/"
        },
        "id": "VVAsz9UO3lyT",
        "outputId": "02a6ef4c-9e4a-4545-f2dd-e86adb929c30"
      },
      "execution_count": 6,
      "outputs": [
        {
          "output_type": "stream",
          "name": "stdout",
          "text": [
            "[1, 4, 9, 16, 25, 36, 49, 64, 81, 100]\n"
          ]
        }
      ]
    },
    {
      "cell_type": "markdown",
      "source": [
        "e. Find the cube root of numbers from 1 to 10\n",
        "\n",
        "**Answer:**"
      ],
      "metadata": {
        "id": "gGlBS8Xu3oGh"
      }
    },
    {
      "cell_type": "code",
      "source": [
        "cube_roots = list(map(lambda x: round(x**(1/3), 2), range(1, 11)))\n",
        "\n",
        "print(cube_roots)  # Output: [1.0, 1.26, 1.44, 1.59, 1.71, 1.82, 1.91, 2.0, 2.08, 2.15]\n"
      ],
      "metadata": {
        "colab": {
          "base_uri": "https://localhost:8080/"
        },
        "id": "S7i-Fm5c3r3D",
        "outputId": "eb8a2397-e5dc-4f9e-c3b3-af0149ae5d13"
      },
      "execution_count": 7,
      "outputs": [
        {
          "output_type": "stream",
          "name": "stdout",
          "text": [
            "[1.0, 1.26, 1.44, 1.59, 1.71, 1.82, 1.91, 2.0, 2.08, 2.15]\n"
          ]
        }
      ]
    },
    {
      "cell_type": "markdown",
      "source": [
        "f. Check if a given number is even\n",
        "\n",
        "**Answer:**\n"
      ],
      "metadata": {
        "id": "4qiLCbvx3vAG"
      }
    },
    {
      "cell_type": "code",
      "source": [
        "is_even = lambda x: x % 2 == 0\n",
        "\n",
        "# Test case\n",
        "print(is_even(4))  # Output: True\n",
        "print(is_even(5))  # Output: False\n"
      ],
      "metadata": {
        "colab": {
          "base_uri": "https://localhost:8080/"
        },
        "id": "1aGiTVHr3zIr",
        "outputId": "e097e1da-507f-4d36-b3c2-0ecf052a5b43"
      },
      "execution_count": 8,
      "outputs": [
        {
          "output_type": "stream",
          "name": "stdout",
          "text": [
            "True\n",
            "False\n"
          ]
        }
      ]
    },
    {
      "cell_type": "markdown",
      "source": [
        "g. Filter odd numbers from a list\n",
        "\n",
        "**Answer:**"
      ],
      "metadata": {
        "id": "BFTvbgKZ4EYx"
      }
    },
    {
      "cell_type": "code",
      "source": [
        "numbers = [1, 2, 3, 4, 5, 6, 7, 8, 9, 10]\n",
        "odd_numbers = list(filter(lambda x: x % 2 != 0, numbers))\n",
        "\n",
        "print(odd_numbers)  # Output: [1, 3, 5, 7, 9]\n"
      ],
      "metadata": {
        "colab": {
          "base_uri": "https://localhost:8080/"
        },
        "id": "0KdAT0aS4KXW",
        "outputId": "00a14a94-cbe7-4739-c2f3-2793b96abb8e"
      },
      "execution_count": 9,
      "outputs": [
        {
          "output_type": "stream",
          "name": "stdout",
          "text": [
            "[1, 3, 5, 7, 9]\n"
          ]
        }
      ]
    },
    {
      "cell_type": "markdown",
      "source": [
        "h. Sort a list of integers into positive and negative integers lists\n",
        "\n",
        "**Answer:**"
      ],
      "metadata": {
        "id": "mqg9hwmU4MmQ"
      }
    },
    {
      "cell_type": "code",
      "source": [
        "nums = [1, 2, 3, 4, 5, 6, -1, -2, -3, -4, -5, 0]\n",
        "positive_nums = sorted([x for x in nums if x > 0])\n",
        "negative_nums = sorted([x for x in nums if x < 0])\n",
        "\n",
        "print(\"Positive Integers:\", positive_nums)  # Output: [1, 2, 3, 4, 5, 6]\n",
        "print(\"Negative Integers:\", negative_nums)  # Output: [-5, -4, -3, -2, -1]\n"
      ],
      "metadata": {
        "colab": {
          "base_uri": "https://localhost:8080/"
        },
        "id": "j0fzgc4h4Rut",
        "outputId": "196ac72c-11d0-4dde-9a15-39c3cceddd2a"
      },
      "execution_count": 10,
      "outputs": [
        {
          "output_type": "stream",
          "name": "stdout",
          "text": [
            "Positive Integers: [1, 2, 3, 4, 5, 6]\n",
            "Negative Integers: [-5, -4, -3, -2, -1]\n"
          ]
        }
      ]
    }
  ]
}